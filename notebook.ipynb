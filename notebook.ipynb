{
 "cells": [
  {
   "cell_type": "markdown",
   "id": "8d66563c",
   "metadata": {},
   "source": [
    "### 06/25/23\n",
    "### Joshua Edelstein\n",
    "# Pneumonia Analysis\n",
    "## Overview\n",
    "\n",
    "\n",
    "## Business Understanding \n",
    "\n",
    "<div>\n",
    "<img src=\"images/xray.jpg\", width = 800, height = 400/>\n",
    "</div>\n",
    "\n",
    "Photo by <a href=\"https://unsplash.com/@nci?utm_source=unsplash&utm_medium=referral&utm_content=creditCopyText\">National Cancer Institute</a> on <a href=\"https://unsplash.com/s/photos/x-ray?utm_source=unsplash&utm_medium=referral&utm_content=creditCopyText\">Unsplash</a>\n",
    "  \n",
    "\n",
    "## Inspect and Prepare Data\n",
    "\n",
    "### Look at some Images\n",
    "\n"
   ]
  },
  {
   "cell_type": "code",
   "execution_count": 1,
   "id": "12821798",
   "metadata": {},
   "outputs": [],
   "source": [
    "from keras.preprocessing.image import ImageDataGenerator\n",
    "from keras.models import Sequential\n",
    "from keras.layers import Dense, Flatten, Dropout, Conv2D, MaxPooling2D\n",
    "from keras import optimizers, regularizers, initializers\n",
    "from keras.callbacks import EarlyStopping, ModelCheckpoint\n",
    "from tensorflow.keras.utils import array_to_img, img_to_array, load_img\n",
    "import numpy as np\n",
    "import matplotlib.pyplot as plt\n",
    "%matplotlib inline\n",
    "import pandas as pd\n",
    "import os"
   ]
  },
  {
   "cell_type": "code",
   "execution_count": 2,
   "id": "487b68e1",
   "metadata": {
    "scrolled": true
   },
   "outputs": [
    {
     "name": "stdout",
     "output_type": "stream",
     "text": [
      "Train Images:\n",
      "Found 5216 images belonging to 2 classes.\n",
      "Test Images:\n",
      "Found 624 images belonging to 2 classes.\n",
      "Val Images:\n",
      "Found 16 images belonging to 2 classes.\n"
     ]
    }
   ],
   "source": [
    "# Set the random seed\n",
    "np.random.seed(42)\n",
    "\n",
    "#rename the data path\n",
    "train_data_dir = 'data/train'\n",
    "test_data_dir = 'data/test'\n",
    "val_data_dir ='data/val'\n",
    "\n",
    "# Get all the data in the directory data/train (5216 images), and reshape them\n",
    "print('Train Images:')\n",
    "train_generator = ImageDataGenerator().flow_from_directory(\n",
    "        train_data_dir, \n",
    "        target_size=(64, 64), batch_size=5216)\n",
    "\n",
    "print('Test Images:')\n",
    "# Get all the data in the directory data/validation (624 images), and reshape them\n",
    "test_generator = ImageDataGenerator().flow_from_directory(\n",
    "        test_data_dir, \n",
    "        target_size=(64, 64), batch_size=624)\n",
    "print('Val Images:')\n",
    "# Get all the data in the directory data/train (16 images), and reshape them\n",
    "val_generator = ImageDataGenerator().flow_from_directory(\n",
    "        val_data_dir, \n",
    "        target_size=(64, 64), batch_size=16)\n",
    "\n",
    "# Create the datasets\n",
    "train_images, train_labels = next(train_generator)\n",
    "test_images, test_labels = next(test_generator)\n",
    "val_images, val_labels = next(val_generator)"
   ]
  },
  {
   "cell_type": "code",
   "execution_count": 3,
   "id": "76d66182",
   "metadata": {},
   "outputs": [
    {
     "data": {
      "image/png": "[encoded data removed]",
      "text/plain": [
       "<PIL.Image.Image image mode=RGB size=64x64>"
      ]
     },
     "execution_count": 3,
     "metadata": {},
     "output_type": "execute_result"
    }
   ],
   "source": [
    "#Print an image\n",
    "array_to_img(train_images[10])"
   ]
  },
  {
   "cell_type": "code",
   "execution_count": 4,
   "id": "2264dfaa",
   "metadata": {},
   "outputs": [
    {
     "data": {
      "image/png": "[encoded data removed]",
      "text/plain": [
       "<PIL.Image.Image image mode=RGB size=64x64>"
      ]
     },
     "execution_count": 4,
     "metadata": {},
     "output_type": "execute_result"
    }
   ],
   "source": [
    "#Preview another image\n",
    "array_to_img(train_images[3942])"
   ]
  },
  {
   "cell_type": "markdown",
   "id": "4cd011f1",
   "metadata": {},
   "source": [
    "### The Shape of the Data\n",
    "Now, let's use np.shape() to look at what these numpy arrays look like."
   ]
  },
  {
   "cell_type": "code",
   "execution_count": 5,
   "id": "59f4fc6b",
   "metadata": {},
   "outputs": [
    {
     "name": "stdout",
     "output_type": "stream",
     "text": [
      "Train Images: (5216, 64, 64, 3)\n",
      "Train Labels: (5216, 2)\n",
      "Test Images: (624, 64, 64, 3)\n",
      "Test Labels: (624, 2)\n",
      "Val Images: (16, 64, 64, 3)\n",
      "Val Labels: (16, 2)\n"
     ]
    }
   ],
   "source": [
    "#Use np.shape() to print the shape of the image array and label array\n",
    "print('Train Images:', np.shape(train_images))\n",
    "print('Train Labels:',np.shape(train_labels))\n",
    "print('Test Images:',np.shape(test_images))\n",
    "print('Test Labels:',np.shape(test_labels))\n",
    "print('Val Images:',np.shape(val_images))\n",
    "print('Val Labels:',np.shape(val_labels))"
   ]
  },
  {
   "cell_type": "markdown",
   "id": "38090417",
   "metadata": {},
   "source": [
    "### `train_images`, `test_images`, and `val_images`\n",
    "\n",
    "We need to reshape out data to make it usable in neural network. Right now our data is arranged as `(5216, 64, 64, 3)`. The first number represents the number of images we have, for our train set, that number is 5216. The next 3 numbers represent the number of elements in the feature vector for each image. In other words, it's the number of rows when unrowing the 3 (RGB) 64 x 64 matrices.\n",
    "\n",
    "So we need to transform this so that the data is arranged as (5216, 64x64x3)"
   ]
  },
  {
   "cell_type": "code",
   "execution_count": 6,
   "id": "18afcc5a",
   "metadata": {},
   "outputs": [],
   "source": [
    "# Reshape the train, test and val images \n",
    "train_img_unrow = train_images.reshape(-1, 64*64*3)\n",
    "test_img_unrow = test_images.reshape(-1, 64*64*3)\n",
    "val_img_unrow = val_images.reshape(-1, 64*64*3)"
   ]
  },
  {
   "cell_type": "markdown",
   "id": "0cf20cb2",
   "metadata": {},
   "source": [
    "Verify that the shape of the the newly created `train_img_unrow` is correct."
   ]
  },
  {
   "cell_type": "code",
   "execution_count": 7,
   "id": "82c5e088",
   "metadata": {},
   "outputs": [
    {
     "data": {
      "text/plain": [
       "(5216, 12288)"
      ]
     },
     "execution_count": 7,
     "metadata": {},
     "output_type": "execute_result"
    }
   ],
   "source": [
    "# Preview the shape of train_img_unrow\n",
    "np.shape(train_img_unrow)"
   ]
  },
  {
   "cell_type": "markdown",
   "id": "38033f9e",
   "metadata": {},
   "source": [
    "### `train_labels`,  `test_labels`, and `val_labels`"
   ]
  },
  {
   "cell_type": "markdown",
   "id": "75dcb0d7",
   "metadata": {},
   "source": [
    "Earlier, you noticed that `train_labels`, `test_labels` and `val_labels` have shapes of (5216, 2), (624, 2), and (16, 2)\n",
    "\n",
    "Let's have a closer look."
   ]
  },
  {
   "cell_type": "code",
   "execution_count": 8,
   "id": "538b83a0",
   "metadata": {},
   "outputs": [
    {
     "data": {
      "text/plain": [
       "array([[0., 1.],\n",
       "       [1., 0.],\n",
       "       [0., 1.],\n",
       "       ...,\n",
       "       [0., 1.],\n",
       "       [0., 1.],\n",
       "       [1., 0.]], dtype=float32)"
      ]
     },
     "execution_count": 8,
     "metadata": {},
     "output_type": "execute_result"
    }
   ],
   "source": [
    "train_labels"
   ]
  },
  {
   "cell_type": "markdown",
   "id": "72a02aa1",
   "metadata": {},
   "source": [
    "Looking at this, it's clear that for each observation (or image), train_labels doesn't simply have an output of 1 or 0, but a pair - either `[0, 1]` or `[1, 0]`\n",
    "\n",
    "Having this information, we still don't know which pair corresponds with `Normal`(healthy) vs `Pneumonia`. However, we already stored this information using keras.preprocessing_image. Let's pull it up"
   ]
  },
  {
   "cell_type": "code",
   "execution_count": 9,
   "id": "d89e0c52",
   "metadata": {},
   "outputs": [
    {
     "data": {
      "text/plain": [
       "{'NORMAL_train': 0, 'PNEUMONIA_train': 1}"
      ]
     },
     "execution_count": 9,
     "metadata": {},
     "output_type": "execute_result"
    }
   ],
   "source": [
    "#use class indices within train_generator to pull up the key for the data\n",
    "train_generator.class_indices"
   ]
  },
  {
   "cell_type": "markdown",
   "id": "33aa554a",
   "metadata": {},
   "source": [
    "Index 0 (the first column) represents `Normal`, index 1 represents `Pneumonia`. Let's transpose all the columns so that value 1 represents `Pneumonia`."
   ]
  },
  {
   "cell_type": "code",
   "execution_count": 103,
   "id": "869f9522",
   "metadata": {},
   "outputs": [],
   "source": [
    "#create new datasets that are transposed versions of the label dataset\n",
    "train_labels_final = train_labels.T[[1]]\n",
    "test_labels_final = test_labels.T[[1]]\n",
    "val_labels_final = val_labels.T[[1]]"
   ]
  },
  {
   "cell_type": "code",
   "execution_count": 105,
   "id": "174a1a48",
   "metadata": {},
   "outputs": [],
   "source": [
    "train_labels_final = train_labels_final.T\n",
    "test_labels_final = test_labels_final.T\n",
    "val_labels_final = val_labels_final.T"
   ]
  },
  {
   "cell_type": "code",
   "execution_count": 106,
   "id": "e97e6d75",
   "metadata": {},
   "outputs": [
    {
     "name": "stdout",
     "output_type": "stream",
     "text": [
      "(5216, 1)\n",
      "(624, 1)\n",
      "(16, 1)\n"
     ]
    }
   ],
   "source": [
    "print(np.shape(train_labels_final))\n",
    "print(np.shape(test_labels_final))\n",
    "print(np.shape(val_labels_final))"
   ]
  },
  {
   "cell_type": "markdown",
   "id": "a39a6ca0",
   "metadata": {},
   "source": [
    "Although we are not able to read xrays let's pull up an image of an xray with `Pneumonia` to see what it looks like"
   ]
  },
  {
   "cell_type": "code",
   "execution_count": 12,
   "id": "f198d9e1",
   "metadata": {
    "scrolled": true
   },
   "outputs": [
    {
     "data": {
      "image/png": "[encoded data removed]",
      "text/plain": [
       "<PIL.Image.Image image mode=RGB size=64x64>"
      ]
     },
     "execution_count": 12,
     "metadata": {},
     "output_type": "execute_result"
    }
   ],
   "source": [
    "#use to array_to_image to pull up the 34th picture in the train set\n",
    "array_to_img(train_images[34])"
   ]
  },
  {
   "cell_type": "markdown",
   "id": "a10b52e1",
   "metadata": {},
   "source": [
    "As we are not professionals, there doesn't seem to be anthing that stands out here"
   ]
  },
  {
   "cell_type": "code",
   "execution_count": 13,
   "id": "55859aab",
   "metadata": {},
   "outputs": [
    {
     "data": {
      "text/plain": [
       "array([1.], dtype=float32)"
      ]
     },
     "execution_count": 13,
     "metadata": {},
     "output_type": "execute_result"
    }
   ],
   "source": [
    "#pull up the label using our new label list\n",
    "train_labels_final[:,34]"
   ]
  },
  {
   "cell_type": "markdown",
   "id": "2c0e88df",
   "metadata": {},
   "source": [
    "Now, we are ready to move on to creating our neural network"
   ]
  },
  {
   "cell_type": "markdown",
   "id": "3bb02272",
   "metadata": {},
   "source": [
    "## Build a Neural Network\n",
    "\n",
    "For our models we will set a random seed so that the results are reproducible, additionally we will use a sequential model, where one layer builds of the previous layer. "
   ]
  },
  {
   "cell_type": "code",
   "execution_count": 107,
   "id": "e5704572",
   "metadata": {},
   "outputs": [],
   "source": [
    "# Create the baseline model\n",
    "baseline_model = Sequential()"
   ]
  },
  {
   "cell_type": "markdown",
   "id": "f56935e4",
   "metadata": {},
   "source": [
    "### Add layers\n",
    "Now that we have initialized a network we will add layers to the network, which include the number of layers, as well as the activation function.\n",
    "\n",
    "The Dense() class indicates that this layer will be fully connected. \n",
    "\n",
    "For our `baseline_model` we'll use one hidden layers with 64 unitswith a 'relu' activation function. Also, since this is the first hidden layer, we'll pass in input_shape=(12288,). Since we are dealing with a multiclass problem (classifying the xrays into 2), we'll use a 'softmax' classifier in order to output 2 class probabilities per case"
   ]
  },
  {
   "cell_type": "code",
   "execution_count": 108,
   "id": "a5b89123",
   "metadata": {},
   "outputs": [],
   "source": [
    "#add the hidden layer to the NN with 64 units, and an activation of 'relu'\n",
    "baseline_model.add(Dense(64, activation='relu', input_shape=(12288,)))\n",
    "\n",
    "#add the output layer with 2 units and an activation of softmax\n",
    "baseline_model.add(Dense(1, activation='sigmoid'))  # Output layer with 2 unit for binary classification"
   ]
  },
  {
   "cell_type": "markdown",
   "id": "16ebcf85",
   "metadata": {},
   "source": [
    "Now, let's move on to compiling our model. We'll use `'SGD'` as our optimizer for our baseline model. For our loss we'll use binary crossentropy since this is a binary classification problem. "
   ]
  },
  {
   "cell_type": "code",
   "execution_count": 109,
   "id": "a886c29a",
   "metadata": {},
   "outputs": [],
   "source": [
    "# Compile the model #(optimizers.RMSprop(lr=0.001)) adam, AdamW\n",
    "baseline_model.compile(optimizer='SGD', loss='binary_crossentropy', metrics=['accuracy'])"
   ]
  },
  {
   "cell_type": "markdown",
   "id": "a36f5004",
   "metadata": {},
   "source": [
    "Before we run our model lets pull up some summary statistics"
   ]
  },
  {
   "cell_type": "code",
   "execution_count": 110,
   "id": "8d8fd448",
   "metadata": {
    "scrolled": true
   },
   "outputs": [
    {
     "name": "stdout",
     "output_type": "stream",
     "text": [
      "Model: \"sequential_12\"\n",
      "_________________________________________________________________\n",
      " Layer (type)                Output Shape              Param #   \n",
      "=================================================================\n",
      " dense_32 (Dense)            (None, 64)                786496    \n",
      "                                                                 \n",
      " dense_33 (Dense)            (None, 1)                 65        \n",
      "                                                                 \n",
      "=================================================================\n",
      "Total params: 786,561\n",
      "Trainable params: 786,561\n",
      "Non-trainable params: 0\n",
      "_________________________________________________________________\n"
     ]
    }
   ],
   "source": [
    "#pull up summary statistics\n",
    "baseline_model.summary()"
   ]
  },
  {
   "cell_type": "markdown",
   "id": "3fc5cd65",
   "metadata": {},
   "source": [
    "We see that our model has 786,626 trainable parameters, and this is only our baseline model. \n",
    "Now let's move on to actually fitting and running our model.\n",
    "\n",
    "We'll start out with only 10 epochs and a batch size of 64. We'll also use our test set to test our model"
   ]
  },
  {
   "cell_type": "code",
   "execution_count": 111,
   "id": "1b9c1fc2",
   "metadata": {
    "scrolled": true
   },
   "outputs": [
    {
     "name": "stdout",
     "output_type": "stream",
     "text": [
      "Epoch 1/10\n"
     ]
    },
    {
     "name": "stderr",
     "output_type": "stream",
     "text": [
      "2023-06-27 10:16:37.857655: I tensorflow/core/grappler/optimizers/custom_graph_optimizer_registry.cc:113] Plugin optimizer for device_type GPU is enabled.\n"
     ]
    },
    {
     "name": "stdout",
     "output_type": "stream",
     "text": [
      "82/82 [==============================] - ETA: 0s - loss: 36264.2969 - accuracy: 0.7314"
     ]
    },
    {
     "name": "stderr",
     "output_type": "stream",
     "text": [
      "2023-06-27 10:16:38.946762: I tensorflow/core/grappler/optimizers/custom_graph_optimizer_registry.cc:113] Plugin optimizer for device_type GPU is enabled.\n"
     ]
    },
    {
     "name": "stdout",
     "output_type": "stream",
     "text": [
      "82/82 [==============================] - 1s 14ms/step - loss: 36264.2969 - accuracy: 0.7314 - val_loss: 0.6750 - val_accuracy: 0.6250\n",
      "Epoch 2/10\n",
      "82/82 [==============================] - 1s 9ms/step - loss: 0.6407 - accuracy: 0.7429 - val_loss: 0.6656 - val_accuracy: 0.6250\n",
      "Epoch 3/10\n",
      "82/82 [==============================] - 1s 9ms/step - loss: 0.6185 - accuracy: 0.7429 - val_loss: 0.6619 - val_accuracy: 0.6250\n",
      "Epoch 4/10\n",
      "82/82 [==============================] - 1s 9ms/step - loss: 0.6036 - accuracy: 0.7429 - val_loss: 0.6615 - val_accuracy: 0.6250\n",
      "Epoch 5/10\n",
      "82/82 [==============================] - 1s 9ms/step - loss: 0.5934 - accuracy: 0.7429 - val_loss: 0.6629 - val_accuracy: 0.6250\n",
      "Epoch 6/10\n",
      "82/82 [==============================] - 1s 9ms/step - loss: 0.5864 - accuracy: 0.7429 - val_loss: 0.6653 - val_accuracy: 0.6250\n",
      "Epoch 7/10\n",
      "82/82 [==============================] - 1s 9ms/step - loss: 0.5815 - accuracy: 0.7429 - val_loss: 0.6681 - val_accuracy: 0.6250\n",
      "Epoch 8/10\n",
      "82/82 [==============================] - 1s 9ms/step - loss: 0.5782 - accuracy: 0.7429 - val_loss: 0.6709 - val_accuracy: 0.6250\n",
      "Epoch 9/10\n",
      "82/82 [==============================] - 1s 9ms/step - loss: 0.5758 - accuracy: 0.7429 - val_loss: 0.6737 - val_accuracy: 0.6250\n",
      "Epoch 10/10\n",
      "82/82 [==============================] - 1s 9ms/step - loss: 0.5741 - accuracy: 0.7429 - val_loss: 0.6762 - val_accuracy: 0.6250\n"
     ]
    }
   ],
   "source": [
    "# Train the model\n",
    "results_baseline = baseline_model.fit(train_img_unrow, train_labels_final, epochs=10, batch_size=64,\n",
    "                    validation_data=(test_img_unrow, test_labels_final))"
   ]
  },
  {
   "cell_type": "markdown",
   "id": "d209374e",
   "metadata": {},
   "source": [
    "Now, let's create a function that takes in our results and plots how they did in terms of accuracy and loss on both the training set as well as the validation set"
   ]
  },
  {
   "cell_type": "code",
   "execution_count": 19,
   "id": "f2ebaa6b",
   "metadata": {},
   "outputs": [],
   "source": [
    "#name function visualize_training_results\n",
    "def visualize_training_results(results):\n",
    "    #set the history\n",
    "    history = results.history\n",
    "    \n",
    "    #create figure for loss\n",
    "    plt.figure(figsize=(5,5))\n",
    "    \n",
    "    #plot the validation set loss followed by the training set loss\n",
    "    plt.plot(history['val_loss'])\n",
    "    plt.plot(history['loss'])\n",
    "    \n",
    "    #ad a legend\n",
    "    plt.legend(['val_loss', 'loss'])\n",
    "    \n",
    "    #label the graph and axes\n",
    "    plt.title('Loss')\n",
    "    plt.xlabel('Epochs')\n",
    "    plt.ylabel('Loss')\n",
    "    plt.show()\n",
    "    \n",
    "    #create a figure for accuracy\n",
    "    plt.figure(figsize=(5,5))\n",
    "    \n",
    "    #plot the accuracy for both the validation and training set\n",
    "    plt.plot(history['val_accuracy'])\n",
    "    plt.plot(history['accuracy'])\n",
    "    \n",
    "    #create a legend\n",
    "    plt.legend(['val_accuracy', 'accuracy'])\n",
    "    \n",
    "    #Label the graph and it's axes\n",
    "    plt.title('Accuracy')\n",
    "    plt.xlabel('Epochs')\n",
    "    plt.ylabel('Accuracy')\n",
    "    plt.show()"
   ]
  },
  {
   "cell_type": "code",
   "execution_count": 20,
   "id": "154ee7b0",
   "metadata": {
    "scrolled": false
   },
   "outputs": [
    {
     "data": {
      "image/png": "[encoded data removed]",
      "text/plain": [
       "<Figure size 500x500 with 1 Axes>"
      ]
     },
     "metadata": {},
     "output_type": "display_data"
    },
    {
     "data": {
      "image/png": "[encoded data removed]",
      "text/plain": [
       "<Figure size 500x500 with 1 Axes>"
      ]
     },
     "metadata": {},
     "output_type": "display_data"
    }
   ],
   "source": [
    "visualize_training_results(results_baseline)"
   ]
  },
  {
   "cell_type": "markdown",
   "id": "1342efbe",
   "metadata": {},
   "source": [
    "Being that the loss and accuracy remained roughly the same for both sets over the course of our model, we can say that this isn't a great model. Our loss for the training set ended up being around .6, while it was around .75 for the validation set. Additionally, our accuracy for the training set remained around 75% while our accuracy for the validation set was only a mere 62.5%, which is on average barely better than random guessing."
   ]
  },
  {
   "cell_type": "markdown",
   "id": "7dd342cc",
   "metadata": {},
   "source": [
    "## Building a bigger model\n",
    "\n",
    "Let's create a new model with another hidden layer and tune some other parameters to see how our model improves"
   ]
  },
  {
   "cell_type": "code",
   "execution_count": 120,
   "id": "de3cb917",
   "metadata": {},
   "outputs": [
    {
     "name": "stdout",
     "output_type": "stream",
     "text": [
      "Model: \"sequential_18\"\n",
      "_________________________________________________________________\n",
      " Layer (type)                Output Shape              Param #   \n",
      "=================================================================\n",
      " dense_49 (Dense)            (None, 4096)              50335744  \n",
      "                                                                 \n",
      " dense_50 (Dense)            (None, 2048)              8390656   \n",
      "                                                                 \n",
      " dense_51 (Dense)            (None, 1)                 2049      \n",
      "                                                                 \n",
      "=================================================================\n",
      "Total params: 58,728,449\n",
      "Trainable params: 58,728,449\n",
      "Non-trainable params: 0\n",
      "_________________________________________________________________\n"
     ]
    }
   ],
   "source": [
    "# Create the baseline model\n",
    "model2 = Sequential()\n",
    "\n",
    "#add first hidden layer, with 64 hidden units and activation of relu\n",
    "model2.add(Dense(4096, activation='relu', input_shape=(12288,)))  \n",
    "\n",
    "#second hidden layer with 32 units and relu activation\n",
    "model2.add(Dense(2048, activation='relu'))   \n",
    "\n",
    "# Output layer with 2 units for binary classification\n",
    "model2.add(Dense(1, activation='sigmoid'))\n",
    "\n",
    "# Compile the model using adam\n",
    "model2.compile(optimizer='adam', loss='binary_crossentropy', metrics=['accuracy'])\n",
    "\n",
    "# Print the summary of the model\n",
    "model2.summary()"
   ]
  },
  {
   "cell_type": "code",
   "execution_count": 121,
   "id": "564db602",
   "metadata": {
    "scrolled": false
   },
   "outputs": [
    {
     "name": "stdout",
     "output_type": "stream",
     "text": [
      "Epoch 1/20\n"
     ]
    },
    {
     "name": "stderr",
     "output_type": "stream",
     "text": [
      "2023-06-27 10:21:32.593556: I tensorflow/core/grappler/optimizers/custom_graph_optimizer_registry.cc:113] Plugin optimizer for device_type GPU is enabled.\n"
     ]
    },
    {
     "name": "stdout",
     "output_type": "stream",
     "text": [
      "82/82 [==============================] - ETA: 0s - loss: 772.4191 - accuracy: 0.7421"
     ]
    },
    {
     "name": "stderr",
     "output_type": "stream",
     "text": [
      "2023-06-27 10:21:35.843747: I tensorflow/core/grappler/optimizers/custom_graph_optimizer_registry.cc:113] Plugin optimizer for device_type GPU is enabled.\n"
     ]
    },
    {
     "name": "stdout",
     "output_type": "stream",
     "text": [
      "82/82 [==============================] - 4s 39ms/step - loss: 772.4191 - accuracy: 0.7421 - val_loss: 14.9776 - val_accuracy: 0.8462\n",
      "Epoch 2/20\n",
      "82/82 [==============================] - 2s 29ms/step - loss: 17.2822 - accuracy: 0.8633 - val_loss: 135.3583 - val_accuracy: 0.6314\n",
      "Epoch 3/20\n",
      "82/82 [==============================] - 2s 30ms/step - loss: 5.2712 - accuracy: 0.9156 - val_loss: 24.1945 - val_accuracy: 0.6875\n",
      "Epoch 4/20\n",
      "82/82 [==============================] - 3s 30ms/step - loss: 1.8911 - accuracy: 0.9237 - val_loss: 5.9819 - val_accuracy: 0.8013\n",
      "Epoch 5/20\n",
      "82/82 [==============================] - 2s 30ms/step - loss: 1.7819 - accuracy: 0.9158 - val_loss: 3.6606 - val_accuracy: 0.7179\n",
      "Epoch 6/20\n",
      "82/82 [==============================] - 2s 29ms/step - loss: 4.7079 - accuracy: 0.8838 - val_loss: 3.7221 - val_accuracy: 0.7228\n",
      "Epoch 7/20\n",
      "82/82 [==============================] - 2s 30ms/step - loss: 0.7336 - accuracy: 0.9214 - val_loss: 3.5800 - val_accuracy: 0.7740\n",
      "Epoch 8/20\n",
      "82/82 [==============================] - 2s 30ms/step - loss: 9.5356 - accuracy: 0.8673 - val_loss: 15.7273 - val_accuracy: 0.6907\n",
      "Epoch 9/20\n",
      "82/82 [==============================] - 3s 31ms/step - loss: 0.5533 - accuracy: 0.9304 - val_loss: 4.0567 - val_accuracy: 0.7019\n",
      "Epoch 10/20\n",
      "82/82 [==============================] - 2s 29ms/step - loss: 1.0784 - accuracy: 0.9147 - val_loss: 24.6018 - val_accuracy: 0.6522\n",
      "Epoch 11/20\n",
      "82/82 [==============================] - 2s 31ms/step - loss: 4.0183 - accuracy: 0.8777 - val_loss: 1.3349 - val_accuracy: 0.7772\n",
      "Epoch 12/20\n",
      "82/82 [==============================] - 2s 30ms/step - loss: 0.2593 - accuracy: 0.9365 - val_loss: 1.2651 - val_accuracy: 0.8269\n",
      "Epoch 13/20\n",
      "82/82 [==============================] - 3s 31ms/step - loss: 3.3730 - accuracy: 0.8932 - val_loss: 21.6240 - val_accuracy: 0.7179\n",
      "Epoch 14/20\n",
      "82/82 [==============================] - 2s 29ms/step - loss: 1.2835 - accuracy: 0.9206 - val_loss: 2.1352 - val_accuracy: 0.8029\n",
      "Epoch 15/20\n",
      "82/82 [==============================] - 2s 29ms/step - loss: 0.2199 - accuracy: 0.9335 - val_loss: 3.8503 - val_accuracy: 0.7468\n",
      "Epoch 16/20\n",
      "82/82 [==============================] - 3s 30ms/step - loss: 0.2430 - accuracy: 0.9367 - val_loss: 2.7965 - val_accuracy: 0.8045\n",
      "Epoch 17/20\n",
      "82/82 [==============================] - 2s 30ms/step - loss: 2.0903 - accuracy: 0.8986 - val_loss: 3.8050 - val_accuracy: 0.8478\n",
      "Epoch 18/20\n",
      "82/82 [==============================] - 2s 30ms/step - loss: 0.6049 - accuracy: 0.9406 - val_loss: 3.6667 - val_accuracy: 0.7324\n",
      "Epoch 19/20\n",
      "82/82 [==============================] - 3s 31ms/step - loss: 0.5146 - accuracy: 0.9264 - val_loss: 15.6373 - val_accuracy: 0.6474\n",
      "Epoch 20/20\n",
      "82/82 [==============================] - 2s 29ms/step - loss: 0.2598 - accuracy: 0.9438 - val_loss: 4.7299 - val_accuracy: 0.7131\n"
     ]
    }
   ],
   "source": [
    "# Fit the model to the training data, run 20 epochs and use a batch size of 64\n",
    "results2 = model2.fit(train_img_unrow, train_labels_final, epochs=20, batch_size=64,\n",
    "                    validation_data=(test_img_unrow, test_labels_final))"
   ]
  },
  {
   "cell_type": "code",
   "execution_count": 122,
   "id": "ab7f4d65",
   "metadata": {},
   "outputs": [
    {
     "data": {
      "image/png": "[encoded data removed]",
      "text/plain": [
       "<Figure size 500x500 with 1 Axes>"
      ]
     },
     "metadata": {},
     "output_type": "display_data"
    },
    {
     "data": {
      "image/png": "[encoded data removed]",
      "text/plain": [
       "<Figure size 500x500 with 1 Axes>"
      ]
     },
     "metadata": {},
     "output_type": "display_data"
    }
   ],
   "source": [
    "visualize_training_results(results2)"
   ]
  },
  {
   "cell_type": "markdown",
   "id": "d39e6470",
   "metadata": {},
   "source": [
    "First off, there is a strong improvement in our accuracy for both the train and test set. At the same time we see that there definitely is overfitting as our training set had an accuracy of 96% while the test set had a mere 75%. We can also see that in terms of both loss and accuracy the model was improving and then becoming worse which is interesting to note. Let's move on and create a new model than can fix the issues with overfitting.\n",
    "\n",
    "### Dropout model\n",
    "We will use dropout to try to improve the issue of overfitting. Let's also tell the model to stop running if there is no improvement"
   ]
  },
  {
   "cell_type": "code",
   "execution_count": 24,
   "id": "392c0201",
   "metadata": {},
   "outputs": [],
   "source": [
    "# Define the callbacks, continue training for 5 epochs before stopping\n",
    "early_stopping = [EarlyStopping(monitor='val_loss', patience=5), \n",
    "                  ModelCheckpoint(filepath='best_model.h5', monitor='val_loss', save_best_only=True)]"
   ]
  },
  {
   "cell_type": "code",
   "execution_count": 27,
   "id": "faa49f77",
   "metadata": {},
   "outputs": [
    {
     "name": "stdout",
     "output_type": "stream",
     "text": [
      "Model: \"sequential_4\"\n",
      "_________________________________________________________________\n",
      " Layer (type)                Output Shape              Param #   \n",
      "=================================================================\n",
      " dense_8 (Dense)             (None, 64)                786496    \n",
      "                                                                 \n",
      " dropout_1 (Dropout)         (None, 64)                0         \n",
      "                                                                 \n",
      " dense_9 (Dense)             (None, 32)                2080      \n",
      "                                                                 \n",
      " dropout_2 (Dropout)         (None, 32)                0         \n",
      "                                                                 \n",
      " dense_10 (Dense)            (None, 2)                 66        \n",
      "                                                                 \n",
      "=================================================================\n",
      "Total params: 788,642\n",
      "Trainable params: 788,642\n",
      "Non-trainable params: 0\n",
      "_________________________________________________________________\n"
     ]
    }
   ],
   "source": [
    "# Create the model\n",
    "dropout_model = Sequential()\n",
    "\n",
    "#add Input layer, with 64 hidden units and activation of relu\n",
    "dropout_model.add(Dense(64, activation='relu', input_shape=(12288,)))  \n",
    "#add 20% dropout rate on the training set on input layer\n",
    "dropout_model.add(Dropout(0.2))\n",
    "\n",
    "#hidden layer with 32 units and relu activation\n",
    "dropout_model.add(Dense(32, activation='relu'))   \n",
    "#add 20% dropout rate on the first hidden layer\n",
    "dropout_model.add(Dropout(0.2))\n",
    "\n",
    "# Output layer with 2 units for binary classification\n",
    "dropout_model.add(Dense(2, activation='sigmoid'))\n",
    "\n",
    "# Compile the model using adam\n",
    "dropout_model.compile(optimizer='adam', loss='binary_crossentropy', metrics=['accuracy'])\n",
    "\n",
    "# Print the summary of the model\n",
    "dropout_model.summary()"
   ]
  },
  {
   "cell_type": "code",
   "execution_count": 28,
   "id": "50895583",
   "metadata": {},
   "outputs": [
    {
     "name": "stdout",
     "output_type": "stream",
     "text": [
      "Epoch 1/20\n"
     ]
    },
    {
     "name": "stderr",
     "output_type": "stream",
     "text": [
      "2023-06-27 10:00:20.619762: I tensorflow/core/grappler/optimizers/custom_graph_optimizer_registry.cc:113] Plugin optimizer for device_type GPU is enabled.\n"
     ]
    },
    {
     "name": "stdout",
     "output_type": "stream",
     "text": [
      "82/82 [==============================] - 2s 14ms/step - loss: 35.6987 - accuracy: 0.7404 - val_loss: 0.6871 - val_accuracy: 0.6234\n",
      "Epoch 2/20\n",
      " 1/82 [..............................] - ETA: 0s - loss: 0.6746 - accuracy: 0.7656"
     ]
    },
    {
     "name": "stderr",
     "output_type": "stream",
     "text": [
      "2023-06-27 10:00:21.813561: I tensorflow/core/grappler/optimizers/custom_graph_optimizer_registry.cc:113] Plugin optimizer for device_type GPU is enabled.\n"
     ]
    },
    {
     "name": "stdout",
     "output_type": "stream",
     "text": [
      "82/82 [==============================] - 1s 10ms/step - loss: 2.6905 - accuracy: 0.7406 - val_loss: 0.6748 - val_accuracy: 0.6234\n",
      "Epoch 3/20\n",
      "82/82 [==============================] - 1s 10ms/step - loss: 0.6372 - accuracy: 0.7429 - val_loss: 0.6660 - val_accuracy: 0.6234\n",
      "Epoch 4/20\n",
      "82/82 [==============================] - 1s 10ms/step - loss: 0.6152 - accuracy: 0.7429 - val_loss: 0.6630 - val_accuracy: 0.6234\n",
      "Epoch 5/20\n",
      "82/82 [==============================] - 1s 10ms/step - loss: 0.6012 - accuracy: 0.7429 - val_loss: 0.6634 - val_accuracy: 0.6234\n",
      "Epoch 6/20\n",
      "82/82 [==============================] - 1s 10ms/step - loss: 0.5912 - accuracy: 0.7429 - val_loss: 0.6656 - val_accuracy: 0.6234\n",
      "Epoch 7/20\n",
      "82/82 [==============================] - 1s 10ms/step - loss: 0.5843 - accuracy: 0.7427 - val_loss: 0.6690 - val_accuracy: 0.6234\n",
      "Epoch 8/20\n",
      "82/82 [==============================] - 1s 10ms/step - loss: 0.5809 - accuracy: 0.7429 - val_loss: 0.6727 - val_accuracy: 0.6234\n",
      "Epoch 9/20\n",
      "82/82 [==============================] - 1s 10ms/step - loss: 0.5773 - accuracy: 0.7429 - val_loss: 0.6764 - val_accuracy: 0.6234\n"
     ]
    }
   ],
   "source": [
    "# Fit the model to the training data, run 20 epochs and use a batch size of 64\n",
    "dropout_results = dropout_model.fit(train_img_unrow, train_labels, epochs=20, batch_size=64,\n",
    "                      callbacks=early_stopping, validation_data=(test_img_unrow, test_labels))"
   ]
  },
  {
   "cell_type": "markdown",
   "id": "5a8fa69e",
   "metadata": {},
   "source": [
    "Clearly this was not a very good model at all. Let's try different techniques to improve our model. Let's try using L2 regularization to improve the model.\n",
    "\n",
    "### L2 model"
   ]
  },
  {
   "cell_type": "code",
   "execution_count": 29,
   "id": "294854ba",
   "metadata": {},
   "outputs": [
    {
     "name": "stdout",
     "output_type": "stream",
     "text": [
      "Model: \"sequential_5\"\n",
      "_________________________________________________________________\n",
      " Layer (type)                Output Shape              Param #   \n",
      "=================================================================\n",
      " dense_11 (Dense)            (None, 64)                786496    \n",
      "                                                                 \n",
      " dense_12 (Dense)            (None, 32)                2080      \n",
      "                                                                 \n",
      " dense_13 (Dense)            (None, 2)                 66        \n",
      "                                                                 \n",
      "=================================================================\n",
      "Total params: 788,642\n",
      "Trainable params: 788,642\n",
      "Non-trainable params: 0\n",
      "_________________________________________________________________\n"
     ]
    }
   ],
   "source": [
    "# Create the baseline model\n",
    "L2_model = Sequential()\n",
    "\n",
    "#add Input layer, with 64 hidden units and activation of relu\n",
    "L2_model.add(Dense(64, activation='relu', kernel_regularizer=regularizers.l2(.005), \n",
    "                   input_shape=(12288,)))  \n",
    "\n",
    "#hidden layer with 32 units and relu activation\n",
    "L2_model.add(Dense(32, activation='relu', kernel_regularizer=regularizers.l2(.005)))   \n",
    "\n",
    "\n",
    "# Output layer with 2 units for binary classification\n",
    "L2_model.add(Dense(2, activation='sigmoid'))\n",
    "\n",
    "# Compile the model using adam\n",
    "L2_model.compile(optimizer='adam', loss='binary_crossentropy', metrics=['accuracy'])\n",
    "\n",
    "# Print the summary of the model\n",
    "L2_model.summary()"
   ]
  },
  {
   "cell_type": "code",
   "execution_count": 30,
   "id": "effc965f",
   "metadata": {},
   "outputs": [
    {
     "name": "stdout",
     "output_type": "stream",
     "text": [
      "Epoch 1/25\n"
     ]
    },
    {
     "name": "stderr",
     "output_type": "stream",
     "text": [
      "2023-06-27 10:00:29.028032: I tensorflow/core/grappler/optimizers/custom_graph_optimizer_registry.cc:113] Plugin optimizer for device_type GPU is enabled.\n"
     ]
    },
    {
     "name": "stdout",
     "output_type": "stream",
     "text": [
      "82/82 [==============================] - 2s 14ms/step - loss: 58.4827 - accuracy: 0.8144 - val_loss: 67.5844 - val_accuracy: 0.6667\n",
      "Epoch 2/25\n"
     ]
    },
    {
     "name": "stderr",
     "output_type": "stream",
     "text": [
      "2023-06-27 10:00:30.209081: I tensorflow/core/grappler/optimizers/custom_graph_optimizer_registry.cc:113] Plugin optimizer for device_type GPU is enabled.\n"
     ]
    },
    {
     "name": "stdout",
     "output_type": "stream",
     "text": [
      "82/82 [==============================] - 1s 10ms/step - loss: 12.6360 - accuracy: 0.9018 - val_loss: 17.6121 - val_accuracy: 0.8221\n",
      "Epoch 3/25\n",
      "82/82 [==============================] - 1s 10ms/step - loss: 6.4244 - accuracy: 0.9327 - val_loss: 94.9694 - val_accuracy: 0.6506\n",
      "Epoch 4/25\n",
      "82/82 [==============================] - 1s 11ms/step - loss: 8.4779 - accuracy: 0.9243 - val_loss: 63.8799 - val_accuracy: 0.7067\n",
      "Epoch 5/25\n",
      "82/82 [==============================] - 1s 10ms/step - loss: 8.2139 - accuracy: 0.9323 - val_loss: 106.0766 - val_accuracy: 0.6522\n",
      "Epoch 6/25\n",
      "82/82 [==============================] - 1s 10ms/step - loss: 11.5073 - accuracy: 0.9252 - val_loss: 34.9840 - val_accuracy: 0.7724\n",
      "Epoch 7/25\n",
      "82/82 [==============================] - 1s 10ms/step - loss: 5.6309 - accuracy: 0.9542 - val_loss: 37.2201 - val_accuracy: 0.7692\n",
      "Epoch 8/25\n",
      "82/82 [==============================] - 1s 11ms/step - loss: 8.9734 - accuracy: 0.9275 - val_loss: 70.1279 - val_accuracy: 0.7115\n",
      "Epoch 9/25\n",
      "82/82 [==============================] - 1s 10ms/step - loss: 5.2953 - accuracy: 0.9519 - val_loss: 92.3006 - val_accuracy: 0.6747\n",
      "Epoch 10/25\n",
      "82/82 [==============================] - 1s 10ms/step - loss: 8.0151 - accuracy: 0.9340 - val_loss: 26.0421 - val_accuracy: 0.8173\n",
      "Epoch 11/25\n",
      "82/82 [==============================] - 1s 10ms/step - loss: 7.7250 - accuracy: 0.9383 - val_loss: 71.9981 - val_accuracy: 0.7179\n",
      "Epoch 12/25\n",
      "82/82 [==============================] - 1s 10ms/step - loss: 6.6473 - accuracy: 0.9452 - val_loss: 19.3015 - val_accuracy: 0.7997\n",
      "Epoch 13/25\n",
      "82/82 [==============================] - 1s 11ms/step - loss: 12.6487 - accuracy: 0.9264 - val_loss: 83.0540 - val_accuracy: 0.7051\n",
      "Epoch 14/25\n",
      "82/82 [==============================] - 1s 11ms/step - loss: 6.2524 - accuracy: 0.9433 - val_loss: 86.6092 - val_accuracy: 0.6939\n",
      "Epoch 15/25\n",
      "82/82 [==============================] - 1s 11ms/step - loss: 6.9036 - accuracy: 0.9438 - val_loss: 51.2261 - val_accuracy: 0.7564\n",
      "Epoch 16/25\n",
      "82/82 [==============================] - 1s 11ms/step - loss: 4.5715 - accuracy: 0.9553 - val_loss: 22.2498 - val_accuracy: 0.8093\n",
      "Epoch 17/25\n",
      "82/82 [==============================] - 1s 11ms/step - loss: 6.1946 - accuracy: 0.9381 - val_loss: 117.9348 - val_accuracy: 0.6603\n",
      "Epoch 18/25\n",
      "82/82 [==============================] - 1s 12ms/step - loss: 7.4996 - accuracy: 0.9344 - val_loss: 15.7575 - val_accuracy: 0.8494\n",
      "Epoch 19/25\n",
      "82/82 [==============================] - 1s 11ms/step - loss: 3.8191 - accuracy: 0.9586 - val_loss: 25.1897 - val_accuracy: 0.7901\n",
      "Epoch 20/25\n",
      "82/82 [==============================] - 1s 11ms/step - loss: 3.4374 - accuracy: 0.9586 - val_loss: 33.5357 - val_accuracy: 0.7724\n",
      "Epoch 21/25\n",
      "82/82 [==============================] - 1s 11ms/step - loss: 2.7785 - accuracy: 0.9607 - val_loss: 16.9758 - val_accuracy: 0.8205\n",
      "Epoch 22/25\n",
      "82/82 [==============================] - 1s 10ms/step - loss: 4.7367 - accuracy: 0.9479 - val_loss: 39.9063 - val_accuracy: 0.7212\n",
      "Epoch 23/25\n",
      "82/82 [==============================] - 1s 10ms/step - loss: 4.6224 - accuracy: 0.9473 - val_loss: 31.8797 - val_accuracy: 0.7276\n",
      "Epoch 24/25\n",
      "82/82 [==============================] - 1s 10ms/step - loss: 2.7515 - accuracy: 0.9551 - val_loss: 24.1497 - val_accuracy: 0.7772\n",
      "Epoch 25/25\n",
      "82/82 [==============================] - 1s 10ms/step - loss: 2.3908 - accuracy: 0.9597 - val_loss: 16.5027 - val_accuracy: 0.8045\n"
     ]
    }
   ],
   "source": [
    "# Fit the model to the training data, run 25 epochs and use a batch size of 64\n",
    "L2_results = L2_model.fit(train_img_unrow, train_labels, epochs=25, batch_size=64,\n",
    "                       validation_data=(test_img_unrow, test_labels))"
   ]
  },
  {
   "cell_type": "markdown",
   "id": "3768e693",
   "metadata": {},
   "source": [
    "Again, it's unclear if this model was better than our second model, because although the training values increased, the testing set values fluctuated a lot, between the high 60s and low 80s. Additionally, a similar affect occurs when tested with L1 regularizer"
   ]
  },
  {
   "cell_type": "code",
   "execution_count": 123,
   "id": "992f8ec0",
   "metadata": {},
   "outputs": [
    {
     "name": "stdout",
     "output_type": "stream",
     "text": [
      "Model: \"sequential_19\"\n",
      "_________________________________________________________________\n",
      " Layer (type)                Output Shape              Param #   \n",
      "=================================================================\n",
      " dense_52 (Dense)            (None, 4096)              50335744  \n",
      "                                                                 \n",
      " dense_53 (Dense)            (None, 2048)              8390656   \n",
      "                                                                 \n",
      " dense_54 (Dense)            (None, 1024)              2098176   \n",
      "                                                                 \n",
      " dense_55 (Dense)            (None, 1)                 1025      \n",
      "                                                                 \n",
      "=================================================================\n",
      "Total params: 60,825,601\n",
      "Trainable params: 60,825,601\n",
      "Non-trainable params: 0\n",
      "_________________________________________________________________\n"
     ]
    }
   ],
   "source": [
    "# Create the baseline model\n",
    "he_model = Sequential()\n",
    "\n",
    "#add Input layer, with 64 hidden units and activation of relu\n",
    "he_model.add(Dense(4096, activation='relu', kernel_initializer='he_normal', \n",
    "                   input_shape=(12288,)))  \n",
    "\n",
    "#hidden layer with 32 units and relu activation\n",
    "he_model.add(Dense(2048, activation='relu'))   \n",
    "\n",
    "#hidden layer with 32 units and relu activation\n",
    "he_model.add(Dense(1024, activation='relu')) \n",
    "\n",
    "# Output layer with 2 units for binary classification\n",
    "he_model.add(Dense(1, activation='sigmoid'))\n",
    "\n",
    "# Compile the model using adam\n",
    "he_model.compile(optimizer='adam', loss='binary_crossentropy', metrics=['accuracy'])\n",
    "\n",
    "# Print the summary of the model\n",
    "he_model.summary()"
   ]
  },
  {
   "cell_type": "code",
   "execution_count": 124,
   "id": "6b8c9fb7",
   "metadata": {},
   "outputs": [
    {
     "name": "stdout",
     "output_type": "stream",
     "text": [
      "Epoch 1/50\n"
     ]
    },
    {
     "name": "stderr",
     "output_type": "stream",
     "text": [
      "2023-06-27 10:24:16.632205: I tensorflow/core/grappler/optimizers/custom_graph_optimizer_registry.cc:113] Plugin optimizer for device_type GPU is enabled.\n"
     ]
    },
    {
     "name": "stdout",
     "output_type": "stream",
     "text": [
      "82/82 [==============================] - ETA: 0s - loss: 690.7960 - accuracy: 0.7080"
     ]
    },
    {
     "name": "stderr",
     "output_type": "stream",
     "text": [
      "2023-06-27 10:24:19.835093: I tensorflow/core/grappler/optimizers/custom_graph_optimizer_registry.cc:113] Plugin optimizer for device_type GPU is enabled.\n"
     ]
    },
    {
     "name": "stdout",
     "output_type": "stream",
     "text": [
      "82/82 [==============================] - 4s 38ms/step - loss: 690.7960 - accuracy: 0.7080 - val_loss: 11.7466 - val_accuracy: 0.6667\n",
      "Epoch 2/50\n",
      "82/82 [==============================] - 2s 30ms/step - loss: 2.6439 - accuracy: 0.8451 - val_loss: 2.5884 - val_accuracy: 0.7885\n",
      "Epoch 3/50\n",
      "82/82 [==============================] - 2s 30ms/step - loss: 0.6645 - accuracy: 0.9074 - val_loss: 6.7700 - val_accuracy: 0.6554\n",
      "Epoch 4/50\n",
      "82/82 [==============================] - 2s 30ms/step - loss: 1.1915 - accuracy: 0.8871 - val_loss: 4.0937 - val_accuracy: 0.6875\n",
      "Epoch 5/50\n",
      "82/82 [==============================] - 2s 30ms/step - loss: 1.9097 - accuracy: 0.8972 - val_loss: 7.4920 - val_accuracy: 0.6859\n",
      "Epoch 6/50\n",
      "82/82 [==============================] - 2s 30ms/step - loss: 1.0250 - accuracy: 0.9057 - val_loss: 2.7540 - val_accuracy: 0.6811\n",
      "Epoch 7/50\n",
      "82/82 [==============================] - 2s 30ms/step - loss: 0.6666 - accuracy: 0.9082 - val_loss: 8.1354 - val_accuracy: 0.6731\n"
     ]
    }
   ],
   "source": [
    "# Fit the model to the training data, run 25 epochs and use a batch size of 64\n",
    "he_results = he_model.fit(train_img_unrow, train_labels_final, epochs=50, batch_size=64, \n",
    "                          callbacks=early_stopping,\n",
    "                       validation_data=(test_img_unrow, test_labels_final))"
   ]
  },
  {
   "cell_type": "markdown",
   "id": "f9cc1474",
   "metadata": {},
   "source": [
    "Again, we are not getting any better accuracy on our test set. Additionally, I tried the same thing with Lecun Initializer and the same thing occured"
   ]
  },
  {
   "cell_type": "markdown",
   "id": "780bfcf2",
   "metadata": {},
   "source": [
    "### CNN"
   ]
  },
  {
   "cell_type": "code",
   "execution_count": 33,
   "id": "2941c7b6",
   "metadata": {},
   "outputs": [
    {
     "name": "stdout",
     "output_type": "stream",
     "text": [
      "Train Images: (5216, 64, 64, 3)\n",
      "Train Labels: (5216, 2)\n",
      "Test Images: (624, 64, 64, 3)\n",
      "Test Labels: (624, 2)\n",
      "Val Images: (16, 64, 64, 3)\n",
      "Val Labels: (16, 2)\n"
     ]
    }
   ],
   "source": [
    "#lets pull up the shape of the data again\n",
    "print('Train Images:', np.shape(train_images))\n",
    "print('Train Labels:',np.shape(train_labels))\n",
    "print('Test Images:',np.shape(test_images))\n",
    "print('Test Labels:',np.shape(test_labels))\n",
    "print('Val Images:',np.shape(val_images))\n",
    "print('Val Labels:',np.shape(val_labels))"
   ]
  },
  {
   "cell_type": "code",
   "execution_count": 34,
   "id": "2505212a",
   "metadata": {},
   "outputs": [],
   "source": [
    "#Normalize pixel values to between 0 and 1\n",
    "train_images, test_images, val_images = train_images/255, test_images/255, val_images/255"
   ]
  },
  {
   "cell_type": "code",
   "execution_count": 125,
   "id": "fa9c03c9",
   "metadata": {},
   "outputs": [],
   "source": [
    "conv_model = Sequential()"
   ]
  },
  {
   "cell_type": "code",
   "execution_count": 127,
   "id": "ee4860e1",
   "metadata": {},
   "outputs": [],
   "source": [
    "conv_model.add(Conv2D (256, (3, 3), activation='tanh', input_shape= (64, 64, 3))) \n",
    "conv_model.add(MaxPooling2D( (2, 2))) \n",
    "conv_model.add(Conv2D(512, (3, 3), activation='tanh')) \n",
    "conv_model.add(MaxPooling2D( (2, 2))) \n",
    "conv_model.add(Conv2D(1024, (3, 3), activation='tanh'))"
   ]
  },
  {
   "cell_type": "code",
   "execution_count": 128,
   "id": "d9b7d46d",
   "metadata": {},
   "outputs": [
    {
     "name": "stdout",
     "output_type": "stream",
     "text": [
      "Model: \"sequential_20\"\n",
      "_________________________________________________________________\n",
      " Layer (type)                Output Shape              Param #   \n",
      "=================================================================\n",
      " conv2d (Conv2D)             (None, 62, 62, 256)       7168      \n",
      "                                                                 \n",
      " max_pooling2d (MaxPooling2D  (None, 31, 31, 256)      0         \n",
      " )                                                               \n",
      "                                                                 \n",
      " conv2d_1 (Conv2D)           (None, 29, 29, 512)       1180160   \n",
      "                                                                 \n",
      " max_pooling2d_1 (MaxPooling  (None, 14, 14, 512)      0         \n",
      " 2D)                                                             \n",
      "                                                                 \n",
      " conv2d_2 (Conv2D)           (None, 12, 12, 1024)      4719616   \n",
      "                                                                 \n",
      "=================================================================\n",
      "Total params: 5,906,944\n",
      "Trainable params: 5,906,944\n",
      "Non-trainable params: 0\n",
      "_________________________________________________________________\n"
     ]
    }
   ],
   "source": [
    "conv_model.summary()"
   ]
  },
  {
   "cell_type": "code",
   "execution_count": 130,
   "id": "a1e99ddd",
   "metadata": {},
   "outputs": [],
   "source": [
    "conv_model.add(Flatten())\n",
    "conv_model.add(Dense(64, activation='tanh' )) \n",
    "conv_model.add(Dense(1, activation='sigmoid'))"
   ]
  },
  {
   "cell_type": "code",
   "execution_count": 131,
   "id": "866ebc1d",
   "metadata": {},
   "outputs": [
    {
     "name": "stdout",
     "output_type": "stream",
     "text": [
      "Model: \"sequential_20\"\n",
      "_________________________________________________________________\n",
      " Layer (type)                Output Shape              Param #   \n",
      "=================================================================\n",
      " conv2d (Conv2D)             (None, 62, 62, 256)       7168      \n",
      "                                                                 \n",
      " max_pooling2d (MaxPooling2D  (None, 31, 31, 256)      0         \n",
      " )                                                               \n",
      "                                                                 \n",
      " conv2d_1 (Conv2D)           (None, 29, 29, 512)       1180160   \n",
      "                                                                 \n",
      " max_pooling2d_1 (MaxPooling  (None, 14, 14, 512)      0         \n",
      " 2D)                                                             \n",
      "                                                                 \n",
      " conv2d_2 (Conv2D)           (None, 12, 12, 1024)      4719616   \n",
      "                                                                 \n",
      " flatten (Flatten)           (None, 147456)            0         \n",
      "                                                                 \n",
      " dense_56 (Dense)            (None, 64)                9437248   \n",
      "                                                                 \n",
      " dense_57 (Dense)            (None, 1)                 65        \n",
      "                                                                 \n",
      "=================================================================\n",
      "Total params: 15,344,257\n",
      "Trainable params: 15,344,257\n",
      "Non-trainable params: 0\n",
      "_________________________________________________________________\n"
     ]
    }
   ],
   "source": [
    "conv_model.summary()"
   ]
  },
  {
   "cell_type": "code",
   "execution_count": 132,
   "id": "8d7ca498",
   "metadata": {},
   "outputs": [],
   "source": [
    "conv_model.compile(optimizer='adam', loss='binary_crossentropy', metrics=['accuracy'])"
   ]
  },
  {
   "cell_type": "code",
   "execution_count": 137,
   "id": "0b1ff406",
   "metadata": {},
   "outputs": [
    {
     "name": "stdout",
     "output_type": "stream",
     "text": [
      "Epoch 1/10\n"
     ]
    },
    {
     "ename": "TypeError",
     "evalue": "'NoneType' object is not callable",
     "output_type": "error",
     "traceback": [
      "\u001b[0;31m---------------------------------------------------------------------------\u001b[0m",
      "\u001b[0;31mTypeError\u001b[0m                                 Traceback (most recent call last)",
      "Cell \u001b[0;32mIn[137], line 1\u001b[0m\n\u001b[0;32m----> 1\u001b[0m \u001b[43mconv_model\u001b[49m\u001b[38;5;241;43m.\u001b[39;49m\u001b[43mfit\u001b[49m\u001b[43m(\u001b[49m\u001b[43mtrain_images\u001b[49m\u001b[43m,\u001b[49m\u001b[43m \u001b[49m\u001b[43mtrain_labels_final\u001b[49m\u001b[43m,\u001b[49m\u001b[43m \u001b[49m\u001b[43mepochs\u001b[49m\u001b[38;5;241;43m=\u001b[39;49m\u001b[38;5;241;43m10\u001b[39;49m\u001b[43m,\u001b[49m\u001b[43m \u001b[49m\u001b[43mbatch_size\u001b[49m\u001b[38;5;241;43m=\u001b[39;49m\u001b[38;5;241;43m1000\u001b[39;49m\u001b[43m)\u001b[49m\n",
      "File \u001b[0;32m~/anaconda3/envs/tf-env/lib/python3.9/site-packages/keras/utils/traceback_utils.py:67\u001b[0m, in \u001b[0;36mfilter_traceback.<locals>.error_handler\u001b[0;34m(*args, **kwargs)\u001b[0m\n\u001b[1;32m     65\u001b[0m \u001b[38;5;28;01mexcept\u001b[39;00m \u001b[38;5;167;01mException\u001b[39;00m \u001b[38;5;28;01mas\u001b[39;00m e:  \u001b[38;5;66;03m# pylint: disable=broad-except\u001b[39;00m\n\u001b[1;32m     66\u001b[0m   filtered_tb \u001b[38;5;241m=\u001b[39m _process_traceback_frames(e\u001b[38;5;241m.\u001b[39m__traceback__)\n\u001b[0;32m---> 67\u001b[0m   \u001b[38;5;28;01mraise\u001b[39;00m e\u001b[38;5;241m.\u001b[39mwith_traceback(filtered_tb) \u001b[38;5;28;01mfrom\u001b[39;00m \u001b[38;5;28;01mNone\u001b[39;00m\n\u001b[1;32m     68\u001b[0m \u001b[38;5;28;01mfinally\u001b[39;00m:\n\u001b[1;32m     69\u001b[0m   \u001b[38;5;28;01mdel\u001b[39;00m filtered_tb\n",
      "File \u001b[0;32m~/anaconda3/envs/tf-env/lib/python3.9/site-packages/tensorflow/python/eager/def_function.py:947\u001b[0m, in \u001b[0;36mFunction._call\u001b[0;34m(self, *args, **kwds)\u001b[0m\n\u001b[1;32m    944\u001b[0m   \u001b[38;5;28mself\u001b[39m\u001b[38;5;241m.\u001b[39m_lock\u001b[38;5;241m.\u001b[39mrelease()\n\u001b[1;32m    945\u001b[0m   \u001b[38;5;66;03m# In this case we have created variables on the first call, so we run the\u001b[39;00m\n\u001b[1;32m    946\u001b[0m   \u001b[38;5;66;03m# defunned version which is guaranteed to never create variables.\u001b[39;00m\n\u001b[0;32m--> 947\u001b[0m   \u001b[38;5;28;01mreturn\u001b[39;00m \u001b[38;5;28;43mself\u001b[39;49m\u001b[38;5;241;43m.\u001b[39;49m\u001b[43m_stateless_fn\u001b[49m\u001b[43m(\u001b[49m\u001b[38;5;241;43m*\u001b[39;49m\u001b[43margs\u001b[49m\u001b[43m,\u001b[49m\u001b[43m \u001b[49m\u001b[38;5;241;43m*\u001b[39;49m\u001b[38;5;241;43m*\u001b[39;49m\u001b[43mkwds\u001b[49m\u001b[43m)\u001b[49m  \u001b[38;5;66;03m# pylint: disable=not-callable\u001b[39;00m\n\u001b[1;32m    948\u001b[0m \u001b[38;5;28;01melif\u001b[39;00m \u001b[38;5;28mself\u001b[39m\u001b[38;5;241m.\u001b[39m_stateful_fn \u001b[38;5;129;01mis\u001b[39;00m \u001b[38;5;129;01mnot\u001b[39;00m \u001b[38;5;28;01mNone\u001b[39;00m:\n\u001b[1;32m    949\u001b[0m   \u001b[38;5;66;03m# Release the lock early so that multiple threads can perform the call\u001b[39;00m\n\u001b[1;32m    950\u001b[0m   \u001b[38;5;66;03m# in parallel.\u001b[39;00m\n\u001b[1;32m    951\u001b[0m   \u001b[38;5;28mself\u001b[39m\u001b[38;5;241m.\u001b[39m_lock\u001b[38;5;241m.\u001b[39mrelease()\n",
      "\u001b[0;31mTypeError\u001b[0m: 'NoneType' object is not callable"
     ]
    }
   ],
   "source": [
    "conv_model.fit(train_images, train_labels_final, epochs=10, batch_size=1000)"
   ]
  },
  {
   "cell_type": "code",
   "execution_count": null,
   "id": "3981a9ed",
   "metadata": {},
   "outputs": [],
   "source": [
    "test_loss, test_acc = model.evaluate (test_images, test_labels)"
   ]
  },
  {
   "cell_type": "code",
   "execution_count": null,
   "id": "9d057a38",
   "metadata": {},
   "outputs": [],
   "source": []
  },
  {
   "cell_type": "code",
   "execution_count": null,
   "id": "30b5054e",
   "metadata": {},
   "outputs": [],
   "source": []
  },
  {
   "cell_type": "code",
   "execution_count": null,
   "id": "b8f9f524",
   "metadata": {},
   "outputs": [],
   "source": []
  },
  {
   "cell_type": "code",
   "execution_count": null,
   "id": "3dd11575",
   "metadata": {},
   "outputs": [],
   "source": []
  }
 ],
 "metadata": {
  "kernelspec": {
   "display_name": "Python (learn-tf)",
   "language": "python",
   "name": "tf-env"
  },
  "language_info": {
   "codemirror_mode": {
    "name": "ipython",
    "version": 3
   },
   "file_extension": ".py",
   "mimetype": "text/x-python",
   "name": "python",
   "nbconvert_exporter": "python",
   "pygments_lexer": "ipython3",
   "version": "3.9.16"
  }
 },
 "nbformat": 4,
 "nbformat_minor": 5
}
